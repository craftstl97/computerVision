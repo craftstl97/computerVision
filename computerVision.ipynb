{
 "cells": [
  {
   "cell_type": "markdown",
   "metadata": {},
   "source": [
    "## Computer Vision\n",
    "\n",
    "In this notebook I will be following along with Ryan Holbrooks course on Computer Vision.\n",
    "\n",
    "The goal of this exercise is to learn how to use and train convolutional neural networks to recognize images such as cars, dogs, or bridges. "
   ]
  },
  {
   "cell_type": "code",
   "execution_count": null,
   "metadata": {},
   "outputs": [],
   "source": []
  }
 ],
 "metadata": {
  "language_info": {
   "name": "python"
  }
 },
 "nbformat": 4,
 "nbformat_minor": 2
}
